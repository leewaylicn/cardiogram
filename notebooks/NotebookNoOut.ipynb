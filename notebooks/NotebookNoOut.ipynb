{
 "cells": [
  {
   "cell_type": "code",
   "execution_count": null,
   "metadata": {},
   "outputs": [],
   "source": [
    "#import pyod \n",
    "import pandas as pd\n",
    "import numpy as np"
   ]
  },
  {
   "cell_type": "code",
   "execution_count": null,
   "metadata": {},
   "outputs": [],
   "source": [
    "!python -m pip install pyod"
   ]
  },
  {
   "cell_type": "code",
   "execution_count": null,
   "metadata": {},
   "outputs": [],
   "source": [
    "#wave_df=pd.read_csv(\"../data/2020-12-10-21-31-01-bedecg.preprocess.csv\",names=['index','wave'])\n",
    "#wave_df=pd.read_csv(\"../data/2020-12-10-21-31-01-bedecg.preprocess.csv\") \n",
    "wave_df=pd.read_csv(\"1608219213000.csv\")"
   ]
  },
  {
   "cell_type": "code",
   "execution_count": null,
   "metadata": {},
   "outputs": [],
   "source": [
    "print(wave_df)"
   ]
  },
  {
   "cell_type": "code",
   "execution_count": null,
   "metadata": {},
   "outputs": [],
   "source": [
    "!pip install statsmodels"
   ]
  },
  {
   "cell_type": "code",
   "execution_count": null,
   "metadata": {},
   "outputs": [],
   "source": [
    "import statsmodels.api as sm\n",
    "from statsmodels.nonparametric.kernel_regression import KernelReg"
   ]
  },
  {
   "cell_type": "markdown",
   "metadata": {},
   "source": [
    "# FFT滤波去抖动噪声"
   ]
  },
  {
   "cell_type": "code",
   "execution_count": null,
   "metadata": {},
   "outputs": [],
   "source": [
    "import scipy.fftpack\n",
    "x=wave_df['Unnamed: 0']\n",
    "y=wave_df['value']\n",
    "\n",
    "N=1\n",
    "w=scipy.fftpack.rfft(y)\n",
    "f=scipy.fftpack.rfftfreq(N, x[1]-x[0])\n",
    "spectrum = w**2\n",
    "\n",
    "cutoff_idx = spectrum < (spectrum.max()/5)\n",
    "w2 = w.copy()\n",
    "w2[cutoff_idx] = 0\n",
    "\n",
    "y2 = scipy.fftpack.irfft(w2)"
   ]
  },
  {
   "cell_type": "code",
   "execution_count": null,
   "metadata": {},
   "outputs": [],
   "source": [
    "csize=1000\n",
    "i=101\n",
    "plt.plot(x[i*csize:(i+1)*csize],y2[i*csize:(i+1)*csize])\n",
    "plt.show()"
   ]
  },
  {
   "cell_type": "markdown",
   "metadata": {},
   "source": [
    "# 卷积去噪声"
   ]
  },
  {
   "cell_type": "code",
   "execution_count": null,
   "metadata": {},
   "outputs": [],
   "source": [
    "x=wave_df['Unnamed: 0']\n",
    "y=wave_df['value']\n",
    "\n",
    "def smooth(y, box_pts):\n",
    "    box = np.ones(box_pts)/box_pts\n",
    "    y_smooth = np.convolve(y, box, mode='same')\n",
    "    return y_smooth\n",
    "\n",
    "csize=50\n",
    "i=20200\n",
    "xplot=x[i*csize:(i+1)*csize]\n",
    "yplot=y[i*csize:(i+1)*csize]\n",
    "#plt.plot(xplot, yplot,'r-', lw=2)\n",
    "plt.plot(xplot, smooth(yplot,3), 'r-', lw=2)\n",
    "plt.plot(xplot, smooth(yplot,19), 'g-', lw=2)\n",
    "\n",
    "smoothed=smooth(y,19)"
   ]
  },
  {
   "cell_type": "markdown",
   "metadata": {},
   "source": [
    "# Lowess去噪声"
   ]
  },
  {
   "cell_type": "code",
   "execution_count": null,
   "metadata": {},
   "outputs": [],
   "source": [
    "import statsmodels.api as sm\n",
    "\n",
    "x=wave_df['Unnamed: 0']\n",
    "y=wave_df['value']\n",
    "\n",
    "lowess = sm.nonparametric.lowess(y, x, frac=0.1)\n",
    "\n",
    "csize=50\n",
    "i=20200\n",
    "xplot=lowess[i*csize:(i+1)*csize, 0]\n",
    "yplot=lowess[i*csize:(i+1)*csize, 1]\n",
    "#plt.plot(xplot, yplot,'r-', lw=2)\n",
    "plt.plot(xplot, yplot, 'r-', lw=2)\n",
    "plt.show()"
   ]
  },
  {
   "cell_type": "code",
   "execution_count": null,
   "metadata": {},
   "outputs": [],
   "source": [
    "x=wave_df['Unnamed: 0']\n",
    "y=KernelReg(wave_df['value']\n",
    "kr = KernelReg(y,x,'c')\n",
    "y_pred, y_std = kr.fit(x)"
   ]
  },
  {
   "cell_type": "code",
   "execution_count": null,
   "metadata": {},
   "outputs": [],
   "source": [
    "from scipy import signal"
   ]
  },
  {
   "cell_type": "code",
   "execution_count": null,
   "metadata": {},
   "outputs": [],
   "source": [
    "peak_indx=signal.find_peaks(smoothed,distance=10)"
   ]
  },
  {
   "cell_type": "code",
   "execution_count": null,
   "metadata": {},
   "outputs": [],
   "source": [
    "print(len(peak_indx[0]))\n",
    "print(peak_indx[0][14:18])"
   ]
  },
  {
   "cell_type": "code",
   "execution_count": null,
   "metadata": {},
   "outputs": [],
   "source": [
    "#peak_indx=[255]\n",
    "size=500\n",
    "wave_len=len(smoothed)\n",
    "slide_peaks=np.zeros(wave_len,dtype=np.int)\n",
    "#print(slide_peaks)\n",
    "peak_used_indx=peak_indx[0]\n",
    "#print(peak_used_indx)\n",
    "for i in peak_used_indx:\n",
    "    #print(i)\n",
    "    i=int(i)\n",
    "    li = i-size/2 if i-size/2>0 else 0\n",
    "    ri = i+size/2 if i+size/2<wave_len-1 else wave_len-1\n",
    "    #slide_peaks[li:ri]=slide_peaks[li:ri]+1\n",
    "    j=int(li)\n",
    "    #print(j)\n",
    "    while j<=ri:\n",
    "        #print(j)\n",
    "        slide_peaks[j]=slide_peaks[j]+1\n",
    "        j=j+1\n",
    "\n",
    "print(slide_peaks)"
   ]
  },
  {
   "cell_type": "code",
   "execution_count": null,
   "metadata": {},
   "outputs": [],
   "source": [
    "plt.plot(x, smoothed, 'g-', lw=2)"
   ]
  },
  {
   "cell_type": "code",
   "execution_count": null,
   "metadata": {},
   "outputs": [],
   "source": [
    "import seaborn as sns\n",
    "import matplotlib.pyplot as plt\n",
    "\n",
    "#sns.lineplot(x = wave_df.index.values, y = 'value', palette= 'dark', data=wave_df) \n",
    "#plt.gcf().autofmt_xdate()\n",
    "#plt.show()\n",
    "\n"
   ]
  },
  {
   "cell_type": "code",
   "execution_count": null,
   "metadata": {},
   "outputs": [],
   "source": [
    "csize=1000\n",
    "i=201\n",
    "plt.plot(x[i*csize:(i+1)*csize],smoothed[i*csize:(i+1)*csize])\n",
    "plt.show()"
   ]
  },
  {
   "cell_type": "code",
   "execution_count": null,
   "metadata": {},
   "outputs": [],
   "source": [
    "from  pyod.models.copod  import COPOD\n",
    "clf_name='COPOD'\n",
    "clf=COPOD()\n",
    "clf.fit(wave_df[6000000:16700000])"
   ]
  },
  {
   "cell_type": "code",
   "execution_count": null,
   "metadata": {},
   "outputs": [],
   "source": [
    "# get the prediction labels and outlier scores of the training data\n",
    "y_train_pred = clf.labels_  # binary labels (0: inliers, 1: outliers)\n",
    "y_train_scores = clf.decision_scores_  # raw outlier scores\n",
    "\n",
    "y_test_pred = clf.predict(wave_df)\n",
    "y_test_scores = clf.decision_function(wave_df)"
   ]
  },
  {
   "cell_type": "code",
   "execution_count": null,
   "metadata": {},
   "outputs": [],
   "source": [
    "print(wave_df)\n",
    "test=pd.DataFrame()\n",
    "test['value']=wave_df['value']\n",
    "test['score']=y_test_scores*wave_df['value'].max()\n",
    "test['result']=y_test_pred*wave_df['value'].max()\n",
    "print(test)"
   ]
  },
  {
   "cell_type": "code",
   "execution_count": null,
   "metadata": {},
   "outputs": [],
   "source": [
    "import seaborn as sns\n",
    "import matplotlib.pyplot as plt"
   ]
  },
  {
   "cell_type": "code",
   "execution_count": null,
   "metadata": {},
   "outputs": [],
   "source": [
    "sns.lineplot(x = test.index.values, y = 'value', palette= 'dark', data=test) \n",
    "plt.gcf().autofmt_xdate()\n",
    "plt.show()"
   ]
  },
  {
   "cell_type": "code",
   "execution_count": null,
   "metadata": {},
   "outputs": [],
   "source": [
    "size=test.index.size\n",
    "csize=10000\n",
    "count=size/csize+1\n",
    "i=0\n",
    "\n",
    "while i<=count:\n",
    "    plt.plot(test.index.values[i*csize:(i+1)*csize],test['value'][i*csize:(i+1)*csize])\n",
    "    plt.plot(test.index.values[i*csize:(i+1)*csize],test['score'][i*csize:(i+1)*csize])\n",
    "    plt.show()\n",
    "    i=i+1"
   ]
  },
  {
   "cell_type": "code",
   "execution_count": null,
   "metadata": {},
   "outputs": [],
   "source": [
    "print(wave_df)\n",
    "test1=pd.DataFrame()\n",
    "test1['value']=wave_df['value']\n",
    "test1['score']=y_test_scores\n",
    "test1['score1']=test1['score'].rolling(500).mean()\n",
    "test1['score2']=test1['value'].abs().rolling(500).mean()\n",
    "#test1['score']=test1['score'].rolling(1000).mean()*wave_df['value'].max()/test1['score'].max()\n",
    "#test1['result']=y_train_pred*wave_df['value'].max()\n",
    "print(test1)"
   ]
  },
  {
   "cell_type": "code",
   "execution_count": null,
   "metadata": {},
   "outputs": [],
   "source": [
    "size=test1.index.size\n",
    "csize=5000\n",
    "count=size/csize+1\n",
    "i=0\n",
    "\n",
    "while i<=count:\n",
    "    plt.plot(test1.index.values[i*csize:(i+1)*csize],test1['value'][i*csize:(i+1)*csize])\n",
    "    plt.show()\n",
    "    plt.plot(test1.index.values[i*csize:(i+1)*csize],test1['score2'][i*csize:(i+1)*csize])\n",
    "    plt.show()\n",
    "    i=i+1"
   ]
  },
  {
   "cell_type": "code",
   "execution_count": null,
   "metadata": {},
   "outputs": [],
   "source": [
    "plt.hist(test1['score2'])\n",
    "plt.show()"
   ]
  },
  {
   "cell_type": "code",
   "execution_count": null,
   "metadata": {},
   "outputs": [],
   "source": [
    "plt.plot(test.index.values[-500:],test['value'][-500:])\n",
    "plt.plot(test.index.values[-500:],test['score'][-500:])\n",
    "plt.show()"
   ]
  },
  {
   "cell_type": "code",
   "execution_count": null,
   "metadata": {},
   "outputs": [],
   "source": [
    "plt.plot(y_train_scores)\n",
    "plt.axhline(y=clf.threshold_, c='r', ls='dotted', label='threshoold')\n",
    "plt.title('Anomaly Scores with automatically calculated threshold')"
   ]
  },
  {
   "cell_type": "code",
   "execution_count": null,
   "metadata": {},
   "outputs": [],
   "source": [
    "!pip3 install keras"
   ]
  },
  {
   "cell_type": "code",
   "execution_count": null,
   "metadata": {},
   "outputs": [],
   "source": [
    "from keras.utils.vis_utils import model_to_dot \n",
    "from IPython.display import SVG\n",
    "SVG(model_to_dot(clf.model_, show_shapes=True, show_layer_names=True, rankdir='TB').create(prog='dot', format='svg'))\n"
   ]
  },
  {
   "cell_type": "markdown",
   "metadata": {},
   "source": [
    "2. Single-Objective Generative Adversarial Active Learning."
   ]
  },
  {
   "cell_type": "code",
   "execution_count": null,
   "metadata": {},
   "outputs": [],
   "source": [
    "from  pyod.models.so_gaal  import SO_GAAL"
   ]
  },
  {
   "cell_type": "code",
   "execution_count": null,
   "metadata": {},
   "outputs": [],
   "source": [
    "clf_name='so-gaal'\n",
    "clf=SO_GAAL(stop_epochs=1)\n",
    "clf.fit(wave_df)"
   ]
  },
  {
   "cell_type": "code",
   "execution_count": null,
   "metadata": {},
   "outputs": [],
   "source": [
    "# get the prediction labels and outlier scores of the training data\n",
    "y_train_pred = clf.labels_  # binary labels (0: inliers, 1: outliers)\n",
    "y_train_scores = clf.decision_scores_  # raw outlier scores"
   ]
  }
 ],
 "metadata": {
  "file_extension": ".py",
  "kernelspec": {
   "display_name": "conda_python3",
   "language": "python",
   "name": "conda_python3"
  },
  "language_info": {
   "codemirror_mode": {
    "name": "ipython",
    "version": 3
   },
   "file_extension": ".py",
   "mimetype": "text/x-python",
   "name": "python",
   "nbconvert_exporter": "python",
   "pygments_lexer": "ipython3",
   "version": "3.6.13"
  },
  "mimetype": "text/x-python",
  "name": "python",
  "npconvert_exporter": "python",
  "pygments_lexer": "ipython3",
  "version": 3
 },
 "nbformat": 4,
 "nbformat_minor": 4
}
